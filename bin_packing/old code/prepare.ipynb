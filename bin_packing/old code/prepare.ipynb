{
 "cells": [
  {
   "cell_type": "code",
   "execution_count": 3,
   "metadata": {},
   "outputs": [],
   "source": [
    "import random\n",
    "\n",
    "def generate(item_num):\n",
    "    return [random.randint(20,100) for _ in range(item_num)]\n",
    "\n",
    "        \n",
    "def test_dataset_generataion(instance_num ,item_num, bin_capacity):\n",
    "    instances = {}\n",
    "    for i in range(instance_num):\n",
    "        instance = {}\n",
    "        instance['capacity'] = bin_capacity\n",
    "        instance['num_items'] = item_num\n",
    "        instance['items'] = generate(item_num)\n",
    "        instances[f'u{item_num}_{i}'] = instance\n",
    "\n",
    "    return instances"
   ]
  },
  {
   "cell_type": "code",
   "execution_count": 4,
   "metadata": {},
   "outputs": [
    {
     "data": {
      "text/plain": [
       "{'u10_0': {'capacity': 10,\n",
       "  'num_items': 10,\n",
       "  'items': [81, 75, 86, 50, 91, 36, 37, 70, 43, 86]},\n",
       " 'u10_1': {'capacity': 10,\n",
       "  'num_items': 10,\n",
       "  'items': [49, 57, 58, 35, 27, 89, 75, 89, 72, 22]},\n",
       " 'u10_2': {'capacity': 10,\n",
       "  'num_items': 10,\n",
       "  'items': [80, 91, 58, 26, 50, 73, 37, 46, 33, 61]}}"
      ]
     },
     "execution_count": 4,
     "metadata": {},
     "output_type": "execute_result"
    }
   ],
   "source": [
    "test_dataset_generataion(instance_num=3, item_num=10, bin_capacity=10)"
   ]
  },
  {
   "cell_type": "code",
   "execution_count": 3,
   "metadata": {},
   "outputs": [
    {
     "data": {
      "text/plain": [
       "tensor([[[ 4,  5,  6,  7]],\n",
       "\n",
       "        [[12, 13, 14, 15]]])"
      ]
     },
     "execution_count": 3,
     "metadata": {},
     "output_type": "execute_result"
    }
   ],
   "source": []
  }
 ],
 "metadata": {
  "kernelspec": {
   "display_name": "test",
   "language": "python",
   "name": "python3"
  },
  "language_info": {
   "codemirror_mode": {
    "name": "ipython",
    "version": 3
   },
   "file_extension": ".py",
   "mimetype": "text/x-python",
   "name": "python",
   "nbconvert_exporter": "python",
   "pygments_lexer": "ipython3",
   "version": "3.11.5"
  }
 },
 "nbformat": 4,
 "nbformat_minor": 2
}
